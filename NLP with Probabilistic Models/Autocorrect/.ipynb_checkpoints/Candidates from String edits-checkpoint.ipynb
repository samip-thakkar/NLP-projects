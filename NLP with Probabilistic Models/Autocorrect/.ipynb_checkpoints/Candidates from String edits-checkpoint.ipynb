{
 "cells": [
  {
   "cell_type": "code",
   "execution_count": 1,
   "metadata": {},
   "outputs": [],
   "source": [
    "# Import the data\n",
    "word = 'dearz' "
   ]
  },
  {
   "cell_type": "code",
   "execution_count": 2,
   "metadata": {},
   "outputs": [
    {
     "name": "stdout",
     "output_type": "stream",
     "text": [
      "['', 'dearz']\n",
      "['d', 'earz']\n",
      "['de', 'arz']\n",
      "['dea', 'rz']\n",
      "['dear', 'z']\n",
      "['dearz', '']\n"
     ]
    }
   ],
   "source": [
    "#Split the word in 2 parts\n",
    "split_word = []\n",
    "for i in range(len(word) + 1):\n",
    "    split_word.append([word[:i], word[i:]])\n",
    "for i in split_word:\n",
    "    print(i)"
   ]
  },
  {
   "cell_type": "code",
   "execution_count": 3,
   "metadata": {},
   "outputs": [
    {
     "name": "stdout",
     "output_type": "stream",
     "text": [
      "('', 'dearz')\n",
      "('d', 'earz')\n",
      "('de', 'arz')\n",
      "('dea', 'rz')\n",
      "('dear', 'z')\n",
      "('dearz', '')\n"
     ]
    }
   ],
   "source": [
    "#Split the words using list comprehension\n",
    "split_word_b = [(word[:i], word[i:]) for i in range(len(word) + 1)]\n",
    "for i in split_word_b:\n",
    "    print(i)"
   ]
  },
  {
   "cell_type": "markdown",
   "metadata": {},
   "source": [
    "### Delete Edit"
   ]
  },
  {
   "cell_type": "code",
   "execution_count": 4,
   "metadata": {},
   "outputs": [
    {
     "name": "stdout",
     "output_type": "stream",
     "text": [
      "Word:  dearz\n",
      "earz  <-- delete d\n",
      "darz  <-- delete e\n",
      "derz  <-- delete a\n",
      "deaz  <-- delete r\n",
      "dear  <-- delete z\n"
     ]
    }
   ],
   "source": [
    "#Generate all words with deleting 1 element from word\n",
    "delete_edit = []\n",
    "print(\"Word: \", word)\n",
    "for i, j in split_word:\n",
    "    if j: \n",
    "        print(i + j[1:], ' <-- delete', j[0])\n",
    "        delete_edit.append(i + j[1:])"
   ]
  },
  {
   "cell_type": "code",
   "execution_count": 5,
   "metadata": {},
   "outputs": [
    {
     "name": "stdout",
     "output_type": "stream",
     "text": [
      "Word:  dearz\n",
      "earz\n",
      "darz\n",
      "derz\n",
      "deaz\n",
      "dear\n",
      "dearz\n"
     ]
    }
   ],
   "source": [
    "#Delete edit with list comprehension\n",
    "print(\"Word: \", word)\n",
    "delete_edit_b = [i + j[1:] for i, j in split_word]\n",
    "for i in delete_edit_b:\n",
    "    print(i)"
   ]
  },
  {
   "cell_type": "markdown",
   "metadata": {},
   "source": [
    "### Filter the candidates"
   ]
  },
  {
   "cell_type": "code",
   "execution_count": 6,
   "metadata": {},
   "outputs": [
    {
     "name": "stdout",
     "output_type": "stream",
     "text": [
      "Vocab:  ['dean', 'deer', 'dear', 'fries', 'and', 'coke']\n",
      "Candidates after delete edit:  ['earz', 'darz', 'derz', 'deaz', 'dear']\n",
      "Filtered candidates:  {'dear'}\n"
     ]
    }
   ],
   "source": [
    "#Get the vocabulary and candidates are from delete_edit\n",
    "vocab = ['dean','deer','dear','fries','and','coke']\n",
    "\n",
    "print(\"Vocab: \", vocab)\n",
    "print(\"Candidates after delete edit: \", delete_edit)\n",
    "\n",
    "candidates = set(vocab).intersection(delete_edit)\n",
    "\n",
    "print(\"Filtered candidates: \", candidates)"
   ]
  },
  {
   "cell_type": "code",
   "execution_count": null,
   "metadata": {},
   "outputs": [],
   "source": []
  }
 ],
 "metadata": {
  "kernelspec": {
   "display_name": "Python 3",
   "language": "python",
   "name": "python3"
  },
  "language_info": {
   "codemirror_mode": {
    "name": "ipython",
    "version": 3
   },
   "file_extension": ".py",
   "mimetype": "text/x-python",
   "name": "python",
   "nbconvert_exporter": "python",
   "pygments_lexer": "ipython3",
   "version": "3.7.6"
  }
 },
 "nbformat": 4,
 "nbformat_minor": 4
}
